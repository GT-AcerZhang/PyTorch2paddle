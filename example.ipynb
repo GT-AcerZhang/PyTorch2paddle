{
 "cells": [
  {
   "cell_type": "code",
   "execution_count": 2,
   "metadata": {
    "collapsed": false
   },
   "outputs": [
    {
     "output_type": "stream",
     "name": "stderr",
     "text": "Using TensorFlow backend.\n"
    },
    {
     "output_type": "error",
     "ename": "ImportError",
     "evalue": "cannot import name 'p2f_trans' from 'nn_transfer' (/opt/anaconda3/lib/python3.7/site-packages/nn_transfer-0.1.0-py3.7.egg/nn_transfer/__init__.py)",
     "traceback": [
      "\u001b[0;31m---------------------------------------------------------------------------\u001b[0m",
      "\u001b[0;31mImportError\u001b[0m                               Traceback (most recent call last)",
      "\u001b[0;32m<ipython-input-2-12e9e3ca9f93>\u001b[0m in \u001b[0;36m<module>\u001b[0;34m\u001b[0m\n\u001b[1;32m      5\u001b[0m \u001b[0;32mimport\u001b[0m \u001b[0mnumpy\u001b[0m \u001b[0;32mas\u001b[0m \u001b[0mnp\u001b[0m\u001b[0;34m\u001b[0m\u001b[0;34m\u001b[0m\u001b[0m\n\u001b[1;32m      6\u001b[0m \u001b[0;34m\u001b[0m\u001b[0m\n\u001b[0;32m----> 7\u001b[0;31m \u001b[0;32mfrom\u001b[0m \u001b[0mnn_transfer\u001b[0m \u001b[0;32mimport\u001b[0m \u001b[0mtransfer\u001b[0m\u001b[0;34m,\u001b[0m \u001b[0mutil\u001b[0m\u001b[0;34m,\u001b[0m \u001b[0mp2f_trans\u001b[0m\u001b[0;34m\u001b[0m\u001b[0;34m\u001b[0m\u001b[0m\n\u001b[0m\u001b[1;32m      8\u001b[0m \u001b[0;34m\u001b[0m\u001b[0m\n\u001b[1;32m      9\u001b[0m \u001b[0mget_ipython\u001b[0m\u001b[0;34m(\u001b[0m\u001b[0;34m)\u001b[0m\u001b[0;34m.\u001b[0m\u001b[0mrun_line_magic\u001b[0m\u001b[0;34m(\u001b[0m\u001b[0;34m'matplotlib'\u001b[0m\u001b[0;34m,\u001b[0m \u001b[0;34m'inline'\u001b[0m\u001b[0;34m)\u001b[0m\u001b[0;34m\u001b[0m\u001b[0;34m\u001b[0m\u001b[0m\n",
      "\u001b[0;31mImportError\u001b[0m: cannot import name 'p2f_trans' from 'nn_transfer' (/opt/anaconda3/lib/python3.7/site-packages/nn_transfer-0.1.0-py3.7.egg/nn_transfer/__init__.py)"
     ]
    }
   ],
   "source": [
    "from __future__ import print_function\n",
    "from collections import OrderedDict\n",
    "\n",
    "import matplotlib.pyplot as plt\n",
    "import numpy as np\n",
    "\n",
    "from nn_transfer import transfer, util, p2f_trans\n",
    "\n",
    "%matplotlib inline"
   ]
  },
  {
   "cell_type": "markdown",
   "metadata": {},
   "source": [
    "## Step 1\n",
    "Simply define your PyTorch model like usual, and create an instance of it."
   ]
  },
  {
   "cell_type": "code",
   "execution_count": 34,
   "metadata": {
    "collapsed": true
   },
   "outputs": [],
   "source": [
    "import torch\n",
    "from torch.autograd import Variable\n",
    "import torch.nn as nn\n",
    "import torch.nn.functional as F\n",
    "\n",
    "class LeNet(nn.Module):\n",
    "    def __init__(self):\n",
    "        super(LeNet, self).__init__()\n",
    "        self.conv1 = nn.Conv2d(1, 6, 5)\n",
    "        self.conv2 = nn.Conv2d(6, 16, 5)\n",
    "        self.fc1   = nn.Linear(16*5*5, 120)\n",
    "        self.fc2   = nn.Linear(120, 84)\n",
    "        self.fc3   = nn.Linear(84, 10)\n",
    "\n",
    "    def forward(self, x):\n",
    "        out = F.relu(self.conv1(x))\n",
    "        out = F.max_pool2d(out, 2)\n",
    "        out = F.relu(self.conv2(out))\n",
    "        out = F.max_pool2d(out, 2)\n",
    "        out = out.view(out.size(0), -1)\n",
    "        out = F.relu(self.fc1(out))\n",
    "        out = F.relu(self.fc2(out))\n",
    "        out = self.fc3(out)\n",
    "        return out\n",
    "    \n",
    "pytorch_network = LeNet()"
   ]
  },
  {
   "cell_type": "markdown",
   "metadata": {},
   "source": [
    "## Step 2\n",
    "Determine the names of the layers.\n",
    "\n",
    "For the above model example it is very straightforward, but if you use param groups it may be a little more involved. To determine the names of the layers the next commands are useful:"
   ]
  },
  {
   "cell_type": "code",
   "execution_count": 35,
   "metadata": {
    "collapsed": false,
    "tags": [
     "outputPrepend"
    ]
   },
   "outputs": [
    {
     "output_type": "stream",
     "name": "stdout",
     "text": "LeNet(\n  (conv1): Conv2d(1, 6, kernel_size=(5, 5), stride=(1, 1))\n  (conv2): Conv2d(6, 16, kernel_size=(5, 5), stride=(1, 1))\n  (fc1): Linear(in_features=400, out_features=120, bias=True)\n  (fc2): Linear(in_features=120, out_features=84, bias=True)\n  (fc3): Linear(in_features=84, out_features=10, bias=True)\n)\n['conv1', 'conv2', 'fc1', 'fc2', 'fc3']\nconv1.weight\nconv1.bias\nconv2.weight\nconv2.bias\nfc1.weight\nfc1.bias\nfc2.weight\nfc2.bias\nfc3.weight\nfc3.bias\ntensor([[[[ 0.1858,  0.0280,  0.1866,  0.0164, -0.0935],\n          [-0.1696,  0.0197, -0.1052, -0.1162,  0.0364],\n          [ 0.0444,  0.0057, -0.1944,  0.1153,  0.0736],\n          [ 0.0470,  0.1928,  0.1636,  0.1727, -0.1349],\n          [ 0.1477, -0.0953,  0.1393,  0.1589, -0.0610]]],\n\n\n        [[[ 0.0333, -0.0613, -0.1085,  0.0499, -0.0678],\n          [-0.1099, -0.1834, -0.1671,  0.0997,  0.1249],\n          [-0.0817,  0.0724, -0.1199, -0.1299,  0.0485],\n          [-0.0304,  0.0862,  0.1196,  0.1391,  0.0029],\n          [-0.1875,  0.1813,  0.1145,  0.0724, -0.1885]]],\n\n\n        [[[-0.1410, -0.0425,  0.0667,  0.0175,  0.0136],\n          [ 0.0130,  0.1182, -0.1698,  0.0652,  0.0404],\n          [-0.0729, -0.0023, -0.1572,  0.0553,  0.1365],\n          [ 0.1050,  0.0190,  0.0163,  0.0731, -0.1276],\n          [ 0.1379,  0.0342,  0.0496,  0.0191, -0.1873]]],\n\n\n        [[[-0.1660,  0.1626, -0.0406,  0.1221, -0.0587],\n          [ 0.1066,  0.0988,  0.1335, -0.1992,  0.1473],\n          [-0.0298,  0.1153,  0.1668, -0.0715,  0.1104],\n          [ 0.1158, -0.1632, -0.1699,  0.0733,  0.0645],\n          [-0.1516,  0.0055, -0.1146, -0.0927, -0.0750]]],\n\n\n        [[[ 0.1764, -0.1759,  0.0321,  0.0277, -0.1259],\n          [-0.1874,  0.1759, -0.1560, -0.1850,  0.1429],\n          [ 0.1782,  0.1980,  0.1716,  0.0273, -0.0834],\n          [-0.1139, -0.0452, -0.0526, -0.1775,  0.1057],\n          [ 0.1450, -0.0547,  0.1885, -0.0516, -0.0186]]],\n\n\n        [[[ 0.1590, -0.0687,  0.1160,  0.1005, -0.0321],\n          [-0.0515,  0.0713,  0.1692, -0.1874,  0.1604],\n          [ 0.1003,  0.1291, -0.1596,  0.0236, -0.0947],\n          [ 0.0088,  0.0361,  0.0733,  0.1858, -0.1210],\n          [-0.1731,  0.0660, -0.1709,  0.1183,  0.0108]]]])\ntorch.Size([6, 1, 5, 5])\n"
    }
   ],
   "source": [
    "# The most useful, just print the network\n",
    "print(pytorch_network)\n",
    "\n",
    "# Also useful: will only print those layers with params\n",
    "state_dict = pytorch_network.state_dict()\n",
    "print(util.state_dict_layer_names(state_dict))\n",
    "for k,v in state_dict.items():\n",
    "    print(k)\n",
    "print(state_dict['conv1.weight'])\n",
    "print(state_dict['conv1.weight'].shape)\n"
   ]
  },
  {
   "cell_type": "markdown",
   "metadata": {},
   "source": [
    "## Step 3\n",
    "Define an equivalent Keras network. Use the built-in `name` keyword argument for each layer with params."
   ]
  },
  {
   "cell_type": "code",
   "execution_count": 1,
   "metadata": {
    "collapsed": true,
    "tags": [
     "outputPrepend"
    ]
   },
   "outputs": [
    {
     "output_type": "stream",
     "name": "stdout",
     "text": "<__main__.LeNet object at 0x12d998350>\nconv1.weight\nconv1.bias\nconv2.weight\nconv2.bias\nconv3.weight\nconv3.bias\nfc1.weight\nfc1.bias\nfc2.weight\nfc2.bias\nname conv2d_0.w_0, dtype: VarType.FP32 shape: [6, 1, 5, 5] \tlod: {}\n\tdim: 6, 1, 5, 5\n\tlayout: NCHW\n\tdtype: float\n\tdata: [0.363508 0.338076 0.130551 -0.147174 -0.440823 0.149725 -0.198654 -0.582418 0.0707067 -0.10575 0.229078 -0.0669537 0.103903 0.300438 -0.86238 -0.435697 0.413513 0.0775742 -0.111762 0.153061 -0.174628 -0.178401 0.21513 0.0247442 -0.0769519 -0.410499 0.319113 -0.359963 -0.33709 0.105977 -0.00229228 0.149699 0.149706 -0.412457 -0.211419 0.119478 0.288736 0.644174 -0.43126 -0.0462208 0.128646 0.195964 -0.397832 -0.198501 0.701616 -0.149692 -0.215233 0.179813 -0.0870564 -0.420398 0.0267434 0.601046 -0.326398 0.345797 -0.196241 -0.0230152 0.375119 0.487588 -0.415174 0.0502467 -0.0335857 0.115494 0.0567903 0.328555 -0.0558925 -0.141201 0.239747 -0.532105 -0.357474 0.376572 0.134131 0.30405 0.146998 -0.198026 -0.0572155 -0.618962 0.337098 0.308037 -0.189114 -0.115359 0.04502 -0.160344 0.149496 0.112757 0.358148 -0.169592 -0.186462 -0.0367276 -0.130471 -0.228147 0.0255245 0.0587532 -0.271893 -0.181728 -0.0625216 0.0312433 0.165228 -0.0532379 0.110143 0.114559 0.287949 -0.663857 -0.165194 0.68502 0.151214 -0.633835 -0.491435 -0.0218807 0.0814114 0.52624 -0.0160606 0.657094 0.0568996 0.0338748 0.457498 -0.0732281 -0.101188 0.0901506 -0.183759 0.195931 -0.183089 -0.00280859 -0.192734 0.114036 0.708381 0.0432638 -0.0593211 -0.208296 0.0917362 0.0628671 0.0983973 0.0195234 -0.102645 0.228022 -0.321254 0.565817 0.0314857 -0.168162 0.22787 -0.0861099 0.292664 0.104827 0.251469 -0.362438 0.0659184 0.235133 0.201237 -0.113732 -0.190345 0.479421]\n\n"
    },
    {
     "output_type": "error",
     "ename": "AttributeError",
     "evalue": "'collections.OrderedDict' object has no attribute 'numpy'",
     "traceback": [
      "\u001b[0;31m---------------------------------------------------------------------------\u001b[0m",
      "\u001b[0;31mAttributeError\u001b[0m                            Traceback (most recent call last)",
      "\u001b[0;32m<ipython-input-1-cb3ee3308b75>\u001b[0m in \u001b[0;36m<module>\u001b[0;34m\u001b[0m\n\u001b[1;32m     40\u001b[0m         \u001b[0mprint\u001b[0m\u001b[0;34m(\u001b[0m\u001b[0mk\u001b[0m\u001b[0;34m)\u001b[0m\u001b[0;34m\u001b[0m\u001b[0;34m\u001b[0m\u001b[0m\n\u001b[1;32m     41\u001b[0m     \u001b[0mprint\u001b[0m\u001b[0;34m(\u001b[0m\u001b[0mstate_dict\u001b[0m\u001b[0;34m[\u001b[0m\u001b[0;34m'conv1.weight'\u001b[0m\u001b[0;34m]\u001b[0m\u001b[0;34m)\u001b[0m\u001b[0;34m\u001b[0m\u001b[0;34m\u001b[0m\u001b[0m\n\u001b[0;32m---> 42\u001b[0;31m     \u001b[0mstate_dict\u001b[0m\u001b[0;34m.\u001b[0m\u001b[0mnumpy\u001b[0m\u001b[0;34m\u001b[0m\u001b[0;34m\u001b[0m\u001b[0m\n\u001b[0m",
      "\u001b[0;31mAttributeError\u001b[0m: 'collections.OrderedDict' object has no attribute 'numpy'"
     ]
    }
   ],
   "source": [
    "import paddle\n",
    "import paddle.fluid as fluid\n",
    "import numpy as np\n",
    "from paddle.fluid.dygraph.nn import Conv2D, Pool2D, Linear, Conv2DTranspose\n",
    "from paddle.fluid.dygraph.base import to_variable\n",
    "# K.set_image_data_format('channels_first')\n",
    "# 定义 LeNet 网络结构\n",
    "class LeNet(fluid.dygraph.Layer):\n",
    "    def __init__(self, num_classes=1):\n",
    "        super(LeNet, self).__init__()\n",
    "\n",
    "        # 创建卷积和池化层块，每个卷积层使用Sigmoid激活函数，后面跟着一个2x2的池化\n",
    "        self.conv1 = Conv2D(num_channels=1, num_filters=6, filter_size=5, act='relu')\n",
    "        self.pool1 = Pool2D(pool_size=2, pool_stride=2, pool_type='max')\n",
    "        self.conv2 = Conv2D(num_channels=6, num_filters=16, filter_size=5, act='relu')\n",
    "        self.pool2 = Pool2D(pool_size=2, pool_stride=2, pool_type='max')\n",
    "        # 创建第3个卷积层\n",
    "        self.conv3 = Conv2D(num_channels=16, num_filters=120, filter_size=4, act='relu')\n",
    "        # 创建全连接层，第一个全连接层的输出神经元个数为64， 第二个全连接层输出神经元个数为分裂标签的类别数\n",
    "        self.fc1 = Linear(input_dim=120, output_dim=64, act='relu')\n",
    "        self.fc2 = Linear(input_dim=64, output_dim=num_classes)\n",
    "    # 网络的前向计算过程\n",
    "    def forward(self, x):\n",
    "        x = self.conv1(x)\n",
    "        x = self.pool1(x)\n",
    "        x = self.conv2(x)\n",
    "        x = self.pool2(x)\n",
    "        x = self.conv3(x)\n",
    "        x = fluid.layers.reshape(x, [x.shape[0], -1])\n",
    "        x = self.fc1(x)\n",
    "        x = self.fc2(x)\n",
    "        return x\n",
    "\n",
    "with fluid.dygraph.guard():\n",
    "    paddle_network = LeNet()\n",
    "    print(paddle_network)\n",
    "    state_dict = paddle_network.state_dict()\n",
    "    # print(util.state_dict_layer_names(state_dict))\n",
    "    for k, v in state_dict.items():\n",
    "        print(k)\n",
    "    print(state_dict['conv1.weight'])\n",
    "    state_dict.numpy"
   ]
  },
  {
   "cell_type": "code",
   "execution_count": 37,
   "metadata": {},
   "outputs": [],
   "source": [
    "# def test_qat():\n",
    "#     with fluid.dygraph.guard():\n",
    "#         mnist = LeNet()\n",
    "        # transform_qat(mnist)\n",
    "        # adam = AdamOptimizer(\n",
    "            # learning_rate=0.001, parameter_list=mnist.parameters())\n",
    "        # train_reader = paddle.batch(\n",
    "            # paddle.dataset.mnist.train(), batch_size=32, drop_last=True)\n",
    "\n",
    "        # epoch_num = 0\n",
    "        # for epoch in range(epoch_num):\n",
    "        #     for batch_id, data in enumerate(train_reader()):\n",
    "        #         dy_x_data = np.array(\n",
    "        #             [x[0].reshape(1, 28, 28)\n",
    "        #                 for x in data]).astype('float32')\n",
    "        #         y_data = np.array(\n",
    "        #             [x[1] for x in data]).astype('int64').reshape(-1, 1)\n",
    "\n",
    "        #         img = fluid.dygraph.to_variable(dy_x_data)\n",
    "        #         label = fluid.dygraph.to_variable(y_data)\n",
    "\n",
    "        #         cost, acc = mnist(img, label)\n",
    "        #         loss = fluid.layers.cross_entropy(cost, label)\n",
    "        #         avg_loss = fluid.layers.mean(loss)\n",
    "        #         avg_loss.backward()\n",
    "        #         adam.minimize(avg_loss)\n",
    "        #         mnist.clear_gradients()\n",
    "        #         if batch_id % 100 == 0:\n",
    "        # #             print(\"Loss at epoch {} step {}: {:}\".format(\n",
    "        # #                 epoch, batch_id, avg_loss.numpy()))\n",
    "\n",
    "        # model_dict = mnist.state_dict()\n",
    "        # print(model_dict['conv1.weight'])\n",
    "        # for k, v in model_dict.items():\n",
    "        #     # if isinstance(v, (Variable, core.VarBase)):\n",
    "        #     #     model_dict[k] = v.numpy()\n",
    "        #     # else:\n",
    "        #     #     model_dict[k] = v\n",
    "        #     print(\"\", k)\n",
    "\n",
    "        # fluid.save_dygraph(model_dict, \"save_temp\")\n",
    "\n",
    "# test_qat()"
   ]
  },
  {
   "cell_type": "markdown",
   "metadata": {
    "collapsed": false
   },
   "source": [
    "## Step 4\n",
    "Now simply convert!"
   ]
  },
  {
   "cell_type": "code",
   "execution_count": 38,
   "metadata": {
    "collapsed": false
   },
   "outputs": [
    {
     "output_type": "error",
     "ename": "AttributeError",
     "evalue": "'LeNet' object has no attribute 'save'",
     "traceback": [
      "\u001b[0;31m---------------------------------------------------------------------------\u001b[0m",
      "\u001b[0;31mAttributeError\u001b[0m                            Traceback (most recent call last)",
      "\u001b[0;32m<ipython-input-38-e73aeb1d6735>\u001b[0m in \u001b[0;36m<module>\u001b[0;34m\u001b[0m\n\u001b[1;32m      1\u001b[0m \u001b[0;31m# transfer.pytorch_to_paddle(keras_network, pytorch_network)\u001b[0m\u001b[0;34m\u001b[0m\u001b[0;34m\u001b[0m\u001b[0;34m\u001b[0m\u001b[0m\n\u001b[0;32m----> 2\u001b[0;31m \u001b[0mp2f_trans\u001b[0m\u001b[0;34m.\u001b[0m\u001b[0mpytorch_to_paddle\u001b[0m\u001b[0;34m(\u001b[0m\u001b[0mpytorch_network\u001b[0m\u001b[0;34m,\u001b[0m \u001b[0mpaddle_network\u001b[0m\u001b[0;34m)\u001b[0m\u001b[0;34m\u001b[0m\u001b[0;34m\u001b[0m\u001b[0m\n\u001b[0m",
      "\u001b[0;32m~/Documents/pytorch2paddle_nn/nn-transfer/nn_transfer/p2f_trans.py\u001b[0m in \u001b[0;36mpytorch_to_paddle\u001b[0;34m(pytorch_model, paddle_model, flip_filters, flip_channels, verbose)\u001b[0m\n\u001b[1;32m     32\u001b[0m \u001b[0;34m\u001b[0m\u001b[0m\n\u001b[1;32m     33\u001b[0m \u001b[0;34m\u001b[0m\u001b[0m\n\u001b[0;32m---> 34\u001b[0;31m     \u001b[0mpaddle_model\u001b[0m\u001b[0;34m.\u001b[0m\u001b[0msave\u001b[0m\u001b[0;34m(\u001b[0m\u001b[0;34m'temp.h5'\u001b[0m\u001b[0;34m)\u001b[0m\u001b[0;34m\u001b[0m\u001b[0;34m\u001b[0m\u001b[0m\n\u001b[0m\u001b[1;32m     35\u001b[0m     \u001b[0mpytorch_input_state_dict\u001b[0m \u001b[0;34m=\u001b[0m \u001b[0mpytorch_model\u001b[0m\u001b[0;34m.\u001b[0m\u001b[0mstate_dict\u001b[0m\u001b[0;34m(\u001b[0m\u001b[0;34m)\u001b[0m\u001b[0;34m\u001b[0m\u001b[0;34m\u001b[0m\u001b[0m\n\u001b[1;32m     36\u001b[0m     \u001b[0mpytorch_layer_names\u001b[0m \u001b[0;34m=\u001b[0m \u001b[0mutil\u001b[0m\u001b[0;34m.\u001b[0m\u001b[0mstate_dict_layer_names\u001b[0m\u001b[0;34m(\u001b[0m\u001b[0mpytorch_input_state_dict\u001b[0m\u001b[0;34m)\u001b[0m\u001b[0;34m\u001b[0m\u001b[0;34m\u001b[0m\u001b[0m\n",
      "\u001b[0;32m/opt/anaconda3/lib/python3.7/site-packages/paddle/fluid/dygraph/layers.py\u001b[0m in \u001b[0;36m__getattr__\u001b[0;34m(self, name)\u001b[0m\n\u001b[1;32m    368\u001b[0m             \u001b[0;32mreturn\u001b[0m \u001b[0mself\u001b[0m\u001b[0;34m.\u001b[0m\u001b[0m_sub_layers\u001b[0m\u001b[0;34m[\u001b[0m\u001b[0mname\u001b[0m\u001b[0;34m]\u001b[0m\u001b[0;34m\u001b[0m\u001b[0;34m\u001b[0m\u001b[0m\n\u001b[1;32m    369\u001b[0m         \u001b[0;32melse\u001b[0m\u001b[0;34m:\u001b[0m\u001b[0;34m\u001b[0m\u001b[0;34m\u001b[0m\u001b[0m\n\u001b[0;32m--> 370\u001b[0;31m             \u001b[0;32mreturn\u001b[0m \u001b[0mobject\u001b[0m\u001b[0;34m.\u001b[0m\u001b[0m__getattribute__\u001b[0m\u001b[0;34m(\u001b[0m\u001b[0mself\u001b[0m\u001b[0;34m,\u001b[0m \u001b[0mname\u001b[0m\u001b[0;34m)\u001b[0m\u001b[0;34m\u001b[0m\u001b[0;34m\u001b[0m\u001b[0m\n\u001b[0m\u001b[1;32m    371\u001b[0m \u001b[0;34m\u001b[0m\u001b[0m\n\u001b[1;32m    372\u001b[0m     \u001b[0;32mdef\u001b[0m \u001b[0m__setattr__\u001b[0m\u001b[0;34m(\u001b[0m\u001b[0mself\u001b[0m\u001b[0;34m,\u001b[0m \u001b[0mname\u001b[0m\u001b[0;34m,\u001b[0m \u001b[0mvalue\u001b[0m\u001b[0;34m)\u001b[0m\u001b[0;34m:\u001b[0m\u001b[0;34m\u001b[0m\u001b[0;34m\u001b[0m\u001b[0m\n",
      "\u001b[0;31mAttributeError\u001b[0m: 'LeNet' object has no attribute 'save'"
     ]
    }
   ],
   "source": [
    "# transfer.pytorch_to_paddle(keras_network, pytorch_network)\n",
    "p2f_trans.pytorch_to_paddle(pytorch_network, paddle_network)\n"
   ]
  },
  {
   "cell_type": "markdown",
   "metadata": {
    "collapsed": false
   },
   "source": [
    "## Done!\n",
    "\n",
    "Now let's check whether it was succesful. If it was, both networks should have the same output."
   ]
  },
  {
   "cell_type": "code",
   "execution_count": 7,
   "metadata": {
    "collapsed": false
   },
   "outputs": [],
   "source": [
    "# Create dummy data\n",
    "# data = torch.rand(6,1,32,32)\n",
    "# data_keras = data.numpy()\n",
    "# data_pytorch = Variable(data, requires_grad=False)\n",
    "\n",
    "# # Do a forward pass in both frameworks\n",
    "# keras_pred = keras_network.predict(data_keras)\n",
    "# pytorch_pred = pytorch_network(data_pytorch).data.numpy()\n",
    "\n",
    "# Create dummy data\n",
    "data = torch.rand(6,1,32,32)\n",
    "data_paddle = data.numpy()\n",
    "data_pytorch = Variable(data, requires_grad=False)\n",
    "\n",
    "# Do a forward pass in both frameworks\n",
    "paddle_pred = paddle_network.predict(data_paddle)\n",
    "pytorch_pred = pytorch_network(data_pytorch).data.numpy()"
   ]
  },
  {
   "cell_type": "code",
   "execution_count": 8,
   "metadata": {
    "collapsed": false
   },
   "outputs": [],
   "source": [
    "# assert keras_pred.shape == pytorch_pred.shape\n",
    "\n",
    "# plt.axis('Off')\n",
    "# plt.imshow(keras_pred)\n",
    "# plt.show()\n",
    "# plt.axis('Off')\n",
    "# plt.imshow(pytorch_pred)\n",
    "# plt.show()"
   ]
  },
  {
   "cell_type": "markdown",
   "metadata": {
    "collapsed": false
   },
   "source": [
    "They are the same, it works :)"
   ]
  },
  {
   "cell_type": "code",
   "execution_count": 9,
   "metadata": {},
   "outputs": [],
   "source": []
  },
  {
   "cell_type": "code",
   "execution_count": null,
   "metadata": {},
   "outputs": [],
   "source": []
  }
 ],
 "metadata": {
  "kernelspec": {
   "display_name": "Python 3",
   "language": "python",
   "name": "python3"
  },
  "language_info": {
   "codemirror_mode": {
    "name": "ipython",
    "version": 2
   },
   "file_extension": ".py",
   "mimetype": "text/x-python",
   "name": "python",
   "nbconvert_exporter": "python",
   "pygments_lexer": "ipython2",
   "version": "3.7.6-final"
  }
 },
 "nbformat": 4,
 "nbformat_minor": 0
}